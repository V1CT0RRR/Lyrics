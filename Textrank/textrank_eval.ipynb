{
 "cells": [
  {
   "cell_type": "code",
   "execution_count": 1,
   "metadata": {},
   "outputs": [],
   "source": [
    "import os, json\n",
    "\n",
    "import pandas as pd\n",
    "from tabulate import tabulate\n",
    "\n",
    "import spacy\n",
    "import pytextrank\n",
    "\n",
    "from tqdm import tqdm\n",
    "\n",
    "from textrank import Textrank"
   ]
  },
  {
   "cell_type": "code",
   "execution_count": 2,
   "metadata": {},
   "outputs": [],
   "source": [
    "data_path = \"../data/Inspec/\"\n",
    "data_path_train_jsonl = data_path + 'train.jsonl'\n",
    "data_path_test_jsonl = data_path + 'test.jsonl'\n",
    "data_path_valid_jsonl = data_path + 'valid.jsonl'"
   ]
  },
  {
   "cell_type": "code",
   "execution_count": 3,
   "metadata": {},
   "outputs": [
    {
     "data": {
      "text/plain": [
       "2000"
      ]
     },
     "execution_count": 3,
     "metadata": {},
     "output_type": "execute_result"
    }
   ],
   "source": [
    "dirname = os.path.abspath(\"\")\n",
    "\n",
    "dataset_inspec = []\n",
    "\n",
    "for data_path_jsonl in [data_path_train_jsonl, data_path_test_jsonl, data_path_valid_jsonl]:\n",
    "\n",
    "    data_path_abs = os.path.join(dirname, data_path_jsonl)\n",
    "\n",
    "    with open(data_path_abs, \"r\") as f:\n",
    "        dataset_inspec_subset = list(f)\n",
    "\n",
    "    dataset_inspec_subset = [json.loads(json_str) for json_str in dataset_inspec_subset]\n",
    "\n",
    "    for idx, dict_doc in enumerate(dataset_inspec_subset):\n",
    "        dataset_inspec_subset[idx]['doc'] = \" \".join([token for token in dict_doc['document'] if token not in [\"-LRB-\", \"-RRB-\", \"-LSB-\", \"-RSB-\"]])\n",
    "\n",
    "    dataset_inspec_subset = [(dict_doc['doc'], dict_doc['extractive_keyphrases']) for dict_doc in dataset_inspec_subset]\n",
    "\n",
    "    dataset_inspec += dataset_inspec_subset\n",
    "\n",
    "len(dataset_inspec)"
   ]
  },
  {
   "cell_type": "code",
   "execution_count": 4,
   "metadata": {},
   "outputs": [],
   "source": [
    "import datetime\n",
    "\n",
    "nlp = spacy.load(\"en_core_web_sm\")\n",
    "nlp.add_pipe(\"textrank\")\n",
    "\n",
    "def get_key_phrases(textrank, doc, k=10, **config):\n",
    "    method = config['method']\n",
    "    if method == \"textrank\":\n",
    "        textrank.pipeline(doc, k)\n",
    "        return [candidate for candidate, _ in textrank.candidates]\n",
    "    elif method == \"spacy\":\n",
    "        start = datetime.datetime.now()\n",
    "        spacy_doc = nlp(doc)\n",
    "        return [phrase.text for phrase in spacy_doc._.phrases[:k]]"
   ]
  },
  {
   "cell_type": "code",
   "execution_count": 5,
   "metadata": {},
   "outputs": [
    {
     "data": {
      "text/plain": [
       "6.326"
      ]
     },
     "execution_count": 5,
     "metadata": {},
     "output_type": "execute_result"
    }
   ],
   "source": [
    "keyword_sizes = [len(key) for doc, key in dataset_inspec]\n",
    "sum(keyword_sizes) / len(keyword_sizes) # average keyword k ~= 6"
   ]
  },
  {
   "cell_type": "code",
   "execution_count": 6,
   "metadata": {},
   "outputs": [],
   "source": [
    "def experiment(**config):\n",
    "    TP = FP = TN = FN = 0\n",
    "\n",
    "    textrank = Textrank(modified=config['modified'], window_size=config['window_size'], nlp=config['nlp'])\n",
    "\n",
    "    for doc, key in tqdm(dataset_inspec):\n",
    "\n",
    "        k = 6 # len(key)\n",
    "\n",
    "        result = get_key_phrases(textrank, doc, k=k, **config)\n",
    "\n",
    "        for positive in result:\n",
    "            if positive not in key:\n",
    "                FP += 1\n",
    "            else:\n",
    "                TP += 1\n",
    "\n",
    "        for real in key:\n",
    "            if real not in result:\n",
    "                FN += 1\n",
    "\n",
    "    precision = TP / (TP + FP) if (TP + FP) > 0 else -1\n",
    "    recall = TP / (TP + FN) if (TP + FN) > 0 else -1\n",
    "    accuracy = 2 * (precision * recall) / (precision + recall) if (precision + recall) > 0 else -1\n",
    "\n",
    "    return precision, recall, accuracy"
   ]
  },
  {
   "cell_type": "code",
   "execution_count": 7,
   "metadata": {},
   "outputs": [
    {
     "name": "stderr",
     "output_type": "stream",
     "text": [
      "100%|██████████| 2000/2000 [00:19<00:00, 102.68it/s]\n",
      "100%|██████████| 2000/2000 [00:17<00:00, 114.98it/s]\n",
      "100%|██████████| 2000/2000 [00:17<00:00, 115.31it/s]\n",
      "100%|██████████| 2000/2000 [00:17<00:00, 111.68it/s]\n",
      "100%|██████████| 2000/2000 [00:16<00:00, 117.95it/s]\n",
      "100%|██████████| 2000/2000 [00:16<00:00, 120.38it/s]\n",
      "100%|██████████| 2000/2000 [00:48<00:00, 41.34it/s]\n",
      "100%|██████████| 2000/2000 [00:44<00:00, 45.28it/s]\n",
      "100%|██████████| 2000/2000 [00:56<00:00, 35.36it/s]\n",
      "100%|██████████| 2000/2000 [00:50<00:00, 39.29it/s]\n"
     ]
    }
   ],
   "source": [
    "method = [\"textrank\", \"textrank_mod\", \"spacy\"]\n",
    "\n",
    "nlp_textrank = spacy.load(\"en_core_web_sm\")\n",
    "\n",
    "configs = [\n",
    "    {\n",
    "        \"method\": \"textrank\",\n",
    "        \"modified\": False,\n",
    "        \"window_size\": 2,\n",
    "        \"nlp\": None\n",
    "    },\n",
    "    {\n",
    "        \"method\": \"textrank\",\n",
    "        \"modified\": False,\n",
    "        \"window_size\": 3,\n",
    "        \"nlp\": None\n",
    "    },\n",
    "    {\n",
    "        \"method\": \"textrank\",\n",
    "        \"modified\": False,\n",
    "        \"window_size\": 4,\n",
    "        \"nlp\": None\n",
    "    },\n",
    "    {\n",
    "        \"method\": \"textrank\",\n",
    "        \"modified\": True,\n",
    "        \"window_size\": 2,\n",
    "        \"nlp\": None\n",
    "    },\n",
    "    {\n",
    "        \"method\": \"textrank\",\n",
    "        \"modified\": True,\n",
    "        \"window_size\": 3,\n",
    "        \"nlp\": None\n",
    "    },\n",
    "    {\n",
    "        \"method\": \"textrank\",\n",
    "        \"modified\": True,\n",
    "        \"window_size\": 4,\n",
    "        \"nlp\": None\n",
    "    },\n",
    "    {\n",
    "        \"method\": \"textrank\",\n",
    "        \"modified\": True,\n",
    "        \"window_size\": 2,\n",
    "        \"nlp\": nlp_textrank\n",
    "    },\n",
    "    {\n",
    "        \"method\": \"textrank\",\n",
    "        \"modified\": True,\n",
    "        \"window_size\": 3,\n",
    "        \"nlp\": nlp_textrank\n",
    "    },\n",
    "    {\n",
    "        \"method\": \"textrank\",\n",
    "        \"modified\": True,\n",
    "        \"window_size\": 4,\n",
    "        \"nlp\": nlp_textrank\n",
    "    },\n",
    "    {\n",
    "        \"method\": \"spacy\",\n",
    "        \"modified\": False,\n",
    "        \"window_size\": 2,\n",
    "        \"nlp\": None\n",
    "    },\n",
    "]\n",
    "\n",
    "results = []\n",
    "for config in configs:\n",
    "    precision, recall, accuracy = experiment(**config)\n",
    "    results.append({\n",
    "        \"precision\": precision,\n",
    "        \"recall\": recall,\n",
    "        \"accuracy\": accuracy,\n",
    "        \"method\": config['method'],\n",
    "        \"modified\": config['modified'],\n",
    "        \"window_size\": config['window_size'],\n",
    "        \"spacy_preprocessing\": True if config['nlp'] else False,\n",
    "    })"
   ]
  },
  {
   "cell_type": "code",
   "execution_count": 8,
   "metadata": {},
   "outputs": [
    {
     "name": "stdout",
     "output_type": "stream",
     "text": [
      "|    |   precision |   recall |   accuracy | method   | modified   |   window_size | spacy_preprocessing   |\n",
      "|---:|------------:|---------:|-----------:|:---------|:-----------|--------------:|:----------------------|\n",
      "|  0 |    0.279819 | 0.263457 |   0.271391 | textrank | True       |             2 | True                  |\n",
      "|  1 |    0.276471 | 0.260304 |   0.268144 | textrank | True       |             3 | True                  |\n",
      "|  2 |    0.276471 | 0.260284 |   0.268133 | textrank | True       |             4 | True                  |\n",
      "|  3 |    0.250439 | 0.235961 |   0.242985 | textrank | True       |             3 | False                 |\n",
      "|  4 |    0.250021 | 0.235475 |   0.24253  | textrank | True       |             2 | False                 |\n",
      "|  5 |    0.247931 | 0.23358  |   0.240542 | textrank | True       |             4 | False                 |\n",
      "|  6 |    0.215591 | 0.204157 |   0.209719 | spacy    | False      |             2 | False                 |\n",
      "|  7 |    0.110176 | 0.104078 |   0.10704  | textrank | False      |             4 | False                 |\n",
      "|  8 |    0.108342 | 0.102322 |   0.105246 | textrank | False      |             3 | False                 |\n",
      "|  9 |    0.107176 | 0.101212 |   0.104108 | textrank | False      |             2 | False                 |\n"
     ]
    }
   ],
   "source": [
    "df_results = pd.DataFrame(results).sort_values(by=\"accuracy\", ascending=False).reset_index(drop=True)\n",
    "\n",
    "print(df_results.to_markdown())"
   ]
  },
  {
   "cell_type": "code",
   "execution_count": 9,
   "metadata": {},
   "outputs": [],
   "source": [
    "text = \"Compatibility of systems of linear constraints over the set of natural numbers. Criteria of compatibility of a system of linear Diophantine equations, strict inequations, and nonstrict inequations are considered. Upper bounds for components of a minimal set of solutions and algorithms of construction of minimal generating sets of solutions for all types of systems are given. These criteria and the corresponding algorithms for constructing a minimal supporting set of solutions can be used in solving all the considered types systems and systems of mixed types.\"\n"
   ]
  },
  {
   "cell_type": "code",
   "execution_count": 10,
   "metadata": {},
   "outputs": [
    {
     "name": "stdout",
     "output_type": "stream",
     "text": [
      "\n",
      "0.166343: linear diophantine equations\n",
      "0.163355: minimal generating sets\n",
      "0.161175: mixed types\n",
      "0.148896: strict inequations\n",
      "0.148896: nonstrict inequations\n",
      "0.141017: natural numbers\n",
      "0.141017: upper bounds\n",
      "0.141017: linear constraints\n",
      "0.105762: algorithms\n",
      "0.096407: a minimal supporting set\n"
     ]
    }
   ],
   "source": [
    "textrank = Textrank(modified=True, window_size=2, nlp=nlp_textrank)\n",
    "textrank.pipeline(text, k=10)\n",
    "textrank.show_candidates()"
   ]
  },
  {
   "cell_type": "code",
   "execution_count": null,
   "metadata": {},
   "outputs": [],
   "source": []
  }
 ],
 "metadata": {
  "kernelspec": {
   "display_name": "Python 3.8.11 ('nlp')",
   "language": "python",
   "name": "python3"
  },
  "language_info": {
   "codemirror_mode": {
    "name": "ipython",
    "version": 3
   },
   "file_extension": ".py",
   "mimetype": "text/x-python",
   "name": "python",
   "nbconvert_exporter": "python",
   "pygments_lexer": "ipython3",
   "version": "3.8.11"
  },
  "orig_nbformat": 4,
  "vscode": {
   "interpreter": {
    "hash": "2507a970d79b133b0914c17609911b458f36ddf8c5a3c0758e64d972011b4a98"
   }
  }
 },
 "nbformat": 4,
 "nbformat_minor": 2
}
