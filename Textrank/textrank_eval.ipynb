{
 "cells": [
  {
   "cell_type": "code",
   "execution_count": 1,
   "metadata": {},
   "outputs": [],
   "source": [
    "import os, json\n",
    "\n",
    "import spacy\n",
    "import pytextrank\n",
    "\n",
    "from tqdm import tqdm\n",
    "\n",
    "from textrank import Textrank"
   ]
  },
  {
   "cell_type": "code",
   "execution_count": 2,
   "metadata": {},
   "outputs": [],
   "source": [
    "data_path = \"../data/Inspec/\"\n",
    "data_path_train_jsonl = data_path + 'train.jsonl'\n",
    "data_path_test_jsonl = data_path + 'test.jsonl'\n",
    "data_path_valid_jsonl = data_path + 'valid.jsonl'"
   ]
  },
  {
   "cell_type": "code",
   "execution_count": 3,
   "metadata": {},
   "outputs": [],
   "source": [
    "dirname = os.path.abspath(\"\")\n",
    "\n",
    "dataset_inspec = []\n",
    "\n",
    "data_path_abs = os.path.join(dirname, data_path_valid_jsonl)\n",
    "\n",
    "with open(data_path_abs, \"r\") as f:\n",
    "    dataset_inspec = list(f)\n",
    "\n",
    "dataset_inspec = [json.loads(json_str) for json_str in dataset_inspec]\n",
    "\n",
    "for idx, dict_doc in enumerate(dataset_inspec):\n",
    "    dataset_inspec[idx]['doc'] = \" \".join([token for token in dict_doc['document'] if token not in [\"-LRB-\", \"-RRB-\", \"-LSB-\", \"-RSB-\"]])\n",
    "\n",
    "dataset_inspec = [(dict_doc['doc'], dict_doc['extractive_keyphrases']) for dict_doc in dataset_inspec]"
   ]
  },
  {
   "cell_type": "code",
   "execution_count": 4,
   "metadata": {},
   "outputs": [],
   "source": [
    "import datetime\n",
    "\n",
    "nlp = spacy.load(\"en_core_web_sm\")\n",
    "nlp.add_pipe(\"textrank\")\n",
    "\n",
    "def get_key_phrases(textrank, doc, k=10, **config):\n",
    "    method = config['method']\n",
    "    if method == \"textrank\":\n",
    "        textrank.pipeline(doc, k)\n",
    "        return [candidate for candidate, _ in textrank.candidates]\n",
    "    elif method == \"spacy\":\n",
    "        start = datetime.datetime.now()\n",
    "        spacy_doc = nlp(doc)\n",
    "        return [phrase.text for phrase in spacy_doc._.phrases[:k]]"
   ]
  },
  {
   "cell_type": "code",
   "execution_count": 5,
   "metadata": {},
   "outputs": [
    {
     "data": {
      "text/plain": [
       "5.952"
      ]
     },
     "execution_count": 5,
     "metadata": {},
     "output_type": "execute_result"
    }
   ],
   "source": [
    "keyword_sizes = [len(key) for doc, key in dataset_inspec]\n",
    "sum(keyword_sizes) / len(keyword_sizes) # average keyword k ~= 6"
   ]
  },
  {
   "cell_type": "code",
   "execution_count": 6,
   "metadata": {},
   "outputs": [],
   "source": [
    "def experiment(**config):\n",
    "    TP = FP = TN = FN = 0\n",
    "\n",
    "    textrank = Textrank(modified=config['modified'], window_size=config['window_size'], nlp=config['nlp'])\n",
    "\n",
    "    for doc, key in tqdm(dataset_inspec):\n",
    "\n",
    "        k = 6 # len(key)\n",
    "\n",
    "        result = get_key_phrases(textrank, doc, k=k, **config)\n",
    "\n",
    "        for positive in result:\n",
    "            if positive not in key:\n",
    "                FP += 1\n",
    "            else:\n",
    "                TP += 1\n",
    "\n",
    "        for real in key:\n",
    "            if real not in result:\n",
    "                FN += 1\n",
    "\n",
    "    precision = TP / (TP + FP) if (TP + FP) > 0 else -1\n",
    "    recall = TP / (TP + FN) if (TP + FN) > 0 else -1\n",
    "    accuracy = 2 * (precision * recall) / (precision + recall) if (precision + recall) > 0 else -1\n",
    "\n",
    "    return precision, recall, accuracy"
   ]
  },
  {
   "cell_type": "code",
   "execution_count": 7,
   "metadata": {},
   "outputs": [
    {
     "name": "stderr",
     "output_type": "stream",
     "text": [
      "100%|██████████| 500/500 [00:05<00:00, 86.19it/s] \n"
     ]
    },
    {
     "name": "stdout",
     "output_type": "stream",
     "text": [
      "0.111 0.11118530884808013 0.11109257714762301 {'method': 'textrank', 'modified': False, 'window_size': 2, 'nlp': None}\n"
     ]
    },
    {
     "name": "stderr",
     "output_type": "stream",
     "text": [
      "100%|██████████| 500/500 [00:04<00:00, 116.25it/s]\n"
     ]
    },
    {
     "name": "stdout",
     "output_type": "stream",
     "text": [
      "0.11466666666666667 0.11493484797861678 0.11480060070081763 {'method': 'textrank', 'modified': False, 'window_size': 3, 'nlp': None}\n"
     ]
    },
    {
     "name": "stderr",
     "output_type": "stream",
     "text": [
      "100%|██████████| 500/500 [00:04<00:00, 120.56it/s]\n"
     ]
    },
    {
     "name": "stdout",
     "output_type": "stream",
     "text": [
      "0.11366666666666667 0.11389445557782231 0.11378044711378044 {'method': 'textrank', 'modified': False, 'window_size': 4, 'nlp': None}\n"
     ]
    },
    {
     "name": "stderr",
     "output_type": "stream",
     "text": [
      "100%|██████████| 500/500 [00:04<00:00, 115.09it/s]\n"
     ]
    },
    {
     "name": "stdout",
     "output_type": "stream",
     "text": [
      "0.24404961448206502 0.24380442062960483 0.24392695593901828 {'method': 'textrank', 'modified': True, 'window_size': 2, 'nlp': None}\n"
     ]
    },
    {
     "name": "stderr",
     "output_type": "stream",
     "text": [
      "100%|██████████| 500/500 [00:04<00:00, 113.60it/s]\n"
     ]
    },
    {
     "name": "stdout",
     "output_type": "stream",
     "text": [
      "0.2500838082467315 0.24983255190890824 0.24995811693751047 {'method': 'textrank', 'modified': True, 'window_size': 3, 'nlp': None}\n"
     ]
    },
    {
     "name": "stderr",
     "output_type": "stream",
     "text": [
      "100%|██████████| 500/500 [00:04<00:00, 108.95it/s]\n"
     ]
    },
    {
     "name": "stdout",
     "output_type": "stream",
     "text": [
      "0.2484076433121019 0.24824120603015076 0.24832439678284182 {'method': 'textrank', 'modified': True, 'window_size': 4, 'nlp': None}\n"
     ]
    },
    {
     "name": "stderr",
     "output_type": "stream",
     "text": [
      "100%|██████████| 500/500 [00:14<00:00, 33.67it/s]\n"
     ]
    },
    {
     "name": "stdout",
     "output_type": "stream",
     "text": [
      "0.270497311827957 0.2701342281879195 0.27031564808596376 {'method': 'textrank', 'modified': True, 'window_size': 2, 'nlp': <spacy.lang.en.English object at 0x7ff06122d1c0>}\n"
     ]
    },
    {
     "name": "stderr",
     "output_type": "stream",
     "text": [
      "100%|██████████| 500/500 [00:11<00:00, 45.07it/s]\n"
     ]
    },
    {
     "name": "stdout",
     "output_type": "stream",
     "text": [
      "0.26411290322580644 0.263669909426367 0.26389122041295954 {'method': 'textrank', 'modified': True, 'window_size': 3, 'nlp': <spacy.lang.en.English object at 0x7ff06122d1c0>}\n"
     ]
    },
    {
     "name": "stderr",
     "output_type": "stream",
     "text": [
      "100%|██████████| 500/500 [00:10<00:00, 46.06it/s]\n"
     ]
    },
    {
     "name": "stdout",
     "output_type": "stream",
     "text": [
      "0.2654569892473118 0.26492287055667335 0.2651896609600537 {'method': 'textrank', 'modified': True, 'window_size': 4, 'nlp': <spacy.lang.en.English object at 0x7ff06122d1c0>}\n"
     ]
    },
    {
     "name": "stderr",
     "output_type": "stream",
     "text": [
      "100%|██████████| 500/500 [00:12<00:00, 40.62it/s]"
     ]
    },
    {
     "name": "stdout",
     "output_type": "stream",
     "text": [
      "0.197460741730705 0.19858870967741934 0.19802311945049422 {'method': 'spacy', 'modified': False, 'window_size': 2, 'nlp': None}\n"
     ]
    },
    {
     "name": "stderr",
     "output_type": "stream",
     "text": [
      "\n"
     ]
    }
   ],
   "source": [
    "method = [\"textrank\", \"textrank_mod\", \"spacy\"]\n",
    "\n",
    "nlp_textrank = spacy.load(\"en_core_web_sm\")\n",
    "\n",
    "configs = [\n",
    "    {\n",
    "        \"method\": \"textrank\",\n",
    "        \"modified\": False,\n",
    "        \"window_size\": 2,\n",
    "        \"nlp\": None\n",
    "    },\n",
    "    {\n",
    "        \"method\": \"textrank\",\n",
    "        \"modified\": False,\n",
    "        \"window_size\": 3,\n",
    "        \"nlp\": None\n",
    "    },\n",
    "    {\n",
    "        \"method\": \"textrank\",\n",
    "        \"modified\": False,\n",
    "        \"window_size\": 4,\n",
    "        \"nlp\": None\n",
    "    },\n",
    "    {\n",
    "        \"method\": \"textrank\",\n",
    "        \"modified\": True,\n",
    "        \"window_size\": 2,\n",
    "        \"nlp\": None\n",
    "    },\n",
    "    {\n",
    "        \"method\": \"textrank\",\n",
    "        \"modified\": True,\n",
    "        \"window_size\": 3,\n",
    "        \"nlp\": None\n",
    "    },\n",
    "    {\n",
    "        \"method\": \"textrank\",\n",
    "        \"modified\": True,\n",
    "        \"window_size\": 4,\n",
    "        \"nlp\": None\n",
    "    },\n",
    "    {\n",
    "        \"method\": \"textrank\",\n",
    "        \"modified\": True,\n",
    "        \"window_size\": 2,\n",
    "        \"nlp\": nlp_textrank\n",
    "    },\n",
    "    {\n",
    "        \"method\": \"textrank\",\n",
    "        \"modified\": True,\n",
    "        \"window_size\": 3,\n",
    "        \"nlp\": nlp_textrank\n",
    "    },\n",
    "    {\n",
    "        \"method\": \"textrank\",\n",
    "        \"modified\": True,\n",
    "        \"window_size\": 4,\n",
    "        \"nlp\": nlp_textrank\n",
    "    },\n",
    "    {\n",
    "        \"method\": \"spacy\",\n",
    "        \"modified\": False,\n",
    "        \"window_size\": 2,\n",
    "        \"nlp\": None\n",
    "    },\n",
    "]\n",
    "\n",
    "for config in configs:\n",
    "    precision, recall, accuracy = experiment(**config)\n",
    "    print(precision, recall, accuracy, config)"
   ]
  },
  {
   "cell_type": "code",
   "execution_count": 8,
   "metadata": {},
   "outputs": [],
   "source": [
    "text = \"Compatibility of systems of linear constraints over the set of natural numbers. Criteria of compatibility of a system of linear Diophantine equations, strict inequations, and nonstrict inequations are considered. Upper bounds for components of a minimal set of solutions and algorithms of construction of minimal generating sets of solutions for all types of systems are given. These criteria and the corresponding algorithms for constructing a minimal supporting set of solutions can be used in solving all the considered types systems and systems of mixed types.\"\n"
   ]
  },
  {
   "cell_type": "code",
   "execution_count": 10,
   "metadata": {},
   "outputs": [
    {
     "name": "stdout",
     "output_type": "stream",
     "text": [
      "\n",
      "0.166343: linear diophantine equations\n",
      "0.163355: minimal generating sets\n",
      "0.161175: mixed types\n",
      "0.148896: strict inequations\n",
      "0.148896: nonstrict inequations\n",
      "0.141017: natural numbers\n",
      "0.141017: upper bounds\n",
      "0.141017: linear constraints\n",
      "0.105762: algorithms\n",
      "0.096407: a minimal supporting set\n"
     ]
    }
   ],
   "source": [
    "textrank = Textrank(modified=True, window_size=2, nlp=nlp_textrank)\n",
    "textrank.pipeline(text, k=10)\n",
    "# sorted(textrank.candidates, key=lambda x: x[1], reverse=True)\n",
    "textrank.show_candidates()"
   ]
  },
  {
   "cell_type": "code",
   "execution_count": null,
   "metadata": {},
   "outputs": [],
   "source": []
  }
 ],
 "metadata": {
  "kernelspec": {
   "display_name": "Python 3.8.11 ('nlp')",
   "language": "python",
   "name": "python3"
  },
  "language_info": {
   "codemirror_mode": {
    "name": "ipython",
    "version": 3
   },
   "file_extension": ".py",
   "mimetype": "text/x-python",
   "name": "python",
   "nbconvert_exporter": "python",
   "pygments_lexer": "ipython3",
   "version": "3.8.11"
  },
  "orig_nbformat": 4,
  "vscode": {
   "interpreter": {
    "hash": "2507a970d79b133b0914c17609911b458f36ddf8c5a3c0758e64d972011b4a98"
   }
  }
 },
 "nbformat": 4,
 "nbformat_minor": 2
}
