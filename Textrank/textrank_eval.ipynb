{
 "cells": [
  {
   "cell_type": "code",
   "execution_count": 1,
   "metadata": {},
   "outputs": [],
   "source": [
    "import os, json\n",
    "\n",
    "import spacy\n",
    "import pytextrank\n",
    "\n",
    "from tqdm import tqdm\n",
    "\n",
    "from textrank import Textrank"
   ]
  },
  {
   "cell_type": "code",
   "execution_count": 2,
   "metadata": {},
   "outputs": [],
   "source": [
    "data_path = \"../data/Inspec/\"\n",
    "data_path_doc = data_path + 'docsutf8/'\n",
    "data_path_key = data_path + 'keys/'\n",
    "data_path_train_jsonl = data_path + 'train.jsonl'\n",
    "data_path_test_jsonl = data_path + 'test.jsonl'\n",
    "data_path_valid_jsonl = data_path + 'valid.jsonl'"
   ]
  },
  {
   "cell_type": "code",
   "execution_count": 3,
   "metadata": {},
   "outputs": [],
   "source": [
    "\n",
    "# dirname = os.path.abspath(os.path.dirname(__file__))\n",
    "dirname = os.path.abspath(\"\")\n",
    "\n",
    "dataset_inspec = []\n",
    "\n",
    "data_path_doc_abs = os.path.join(dirname, data_path_doc)\n",
    "data_path_key_abs = os.path.join(dirname, data_path_key)\n",
    "\n",
    "for root, dirs, files in os.walk(data_path_doc):\n",
    "    for file_doc in sorted(files):\n",
    "        file_key = file_doc.replace(\".txt\", \".key\")\n",
    "        file_key_abs = os.path.join(data_path_key_abs, file_key)\n",
    "        file_doc_abs = os.path.join(data_path_doc_abs, file_doc)\n",
    "        if not os.path.exists(file_doc_abs) or not os.path.exists(file_key_abs):\n",
    "            continue\n",
    "\n",
    "        document = \"\"\n",
    "        keywords = []\n",
    "        with open(file_doc_abs, \"r\") as f:\n",
    "            document = f.read().replace(\"\\n\", \"\").replace(\"\\t\", \" \")\n",
    "        with open(file_key_abs, \"r\") as f:\n",
    "            keywords = f.readlines()\n",
    "            keywords = [keyword.strip().replace(\"\\t\", \"\") for keyword in keywords]\n",
    "\n",
    "        dataset_inspec.append((document, keywords))"
   ]
  },
  {
   "cell_type": "code",
   "execution_count": 4,
   "metadata": {},
   "outputs": [],
   "source": [
    "dirname = os.path.abspath(\"\")\n",
    "\n",
    "dataset_inspec = []\n",
    "\n",
    "data_path_abs = os.path.join(dirname, data_path_valid_jsonl)\n",
    "\n",
    "with open(data_path_abs, \"r\") as f:\n",
    "    dataset_inspec = list(f)\n",
    "\n",
    "dataset_inspec = [json.loads(json_str) for json_str in dataset_inspec]\n",
    "\n",
    "for idx, dict_doc in enumerate(dataset_inspec):\n",
    "    dataset_inspec[idx]['doc'] = \" \".join([token for token in dict_doc['document'] if token not in [\"-LRB-\", \"-RRB-\", \"-LSB-\", \"-RSB-\"]])\n",
    "\n",
    "dataset_inspec = [(dict_doc['doc'], dict_doc['extractive_keyphrases']) for dict_doc in dataset_inspec]"
   ]
  },
  {
   "cell_type": "code",
   "execution_count": 5,
   "metadata": {},
   "outputs": [],
   "source": [
    "import datetime\n",
    "\n",
    "\n",
    "nlp = spacy.load(\"en_core_web_sm\")\n",
    "nlp.add_pipe(\"textrank\")\n",
    "\n",
    "def get_key_phrases(doc, k=10, **config):\n",
    "    method = config['method']\n",
    "    if method == \"textrank\":\n",
    "        textrank = Textrank(k=k, modified=config['modified'], window_size=config['window_size'], nlp=config['nlp'])\n",
    "        textrank.pipeline(doc)\n",
    "        return [candidate for candidate, _ in textrank.candidates]\n",
    "    elif method == \"spacy\":\n",
    "        start = datetime.datetime.now()\n",
    "        spacy_doc = nlp(doc)\n",
    "        return [phrase.text for phrase in spacy_doc._.phrases[:k]]"
   ]
  },
  {
   "cell_type": "code",
   "execution_count": 6,
   "metadata": {},
   "outputs": [
    {
     "data": {
      "text/plain": [
       "5.952"
      ]
     },
     "execution_count": 6,
     "metadata": {},
     "output_type": "execute_result"
    }
   ],
   "source": [
    "keyword_sizes = [len(key) for doc, key in dataset_inspec]\n",
    "sum(keyword_sizes) / len(keyword_sizes) # average keyword k ~= 6"
   ]
  },
  {
   "cell_type": "code",
   "execution_count": 7,
   "metadata": {},
   "outputs": [],
   "source": [
    "def experiment(**config):\n",
    "    TP = FP = TN = FN = 0\n",
    "\n",
    "    for doc, key in tqdm(dataset_inspec):\n",
    "\n",
    "        k = 6 # len(key)\n",
    "\n",
    "        result = get_key_phrases(doc, k=k, **config)\n",
    "\n",
    "        for positive in result:\n",
    "            if positive not in key:\n",
    "                FP += 1\n",
    "            else:\n",
    "                TP += 1\n",
    "\n",
    "        for real in key:\n",
    "            if real not in result:\n",
    "                FN += 1\n",
    "\n",
    "    precision = TP / (TP + FP) if (TP + FP) > 0 else -1\n",
    "    recall = TP / (TP + FN) if (TP + FN) > 0 else -1\n",
    "    accuracy = 2 * (precision * recall) / (precision + recall) if (precision + recall) > 0 else -1\n",
    "\n",
    "    return precision, recall, accuracy"
   ]
  },
  {
   "cell_type": "code",
   "execution_count": 8,
   "metadata": {},
   "outputs": [
    {
     "name": "stderr",
     "output_type": "stream",
     "text": [
      "100%|██████████| 500/500 [00:05<00:00, 87.08it/s] \n"
     ]
    },
    {
     "name": "stdout",
     "output_type": "stream",
     "text": [
      "0.111 0.11118530884808013 0.11109257714762301 {'method': 'textrank', 'modified': False, 'window_size': 2, 'nlp': None}\n"
     ]
    },
    {
     "name": "stderr",
     "output_type": "stream",
     "text": [
      "100%|██████████| 500/500 [00:04<00:00, 112.33it/s]\n"
     ]
    },
    {
     "name": "stdout",
     "output_type": "stream",
     "text": [
      "0.11466666666666667 0.11493484797861678 0.11480060070081763 {'method': 'textrank', 'modified': False, 'window_size': 3, 'nlp': None}\n"
     ]
    },
    {
     "name": "stderr",
     "output_type": "stream",
     "text": [
      "100%|██████████| 500/500 [00:04<00:00, 117.76it/s]\n"
     ]
    },
    {
     "name": "stdout",
     "output_type": "stream",
     "text": [
      "0.11366666666666667 0.11389445557782231 0.11378044711378044 {'method': 'textrank', 'modified': False, 'window_size': 4, 'nlp': None}\n"
     ]
    },
    {
     "name": "stderr",
     "output_type": "stream",
     "text": [
      "100%|██████████| 500/500 [00:04<00:00, 114.00it/s]\n"
     ]
    },
    {
     "name": "stdout",
     "output_type": "stream",
     "text": [
      "0.24404961448206502 0.24380442062960483 0.24392695593901828 {'method': 'textrank', 'modified': True, 'window_size': 2, 'nlp': None}\n"
     ]
    },
    {
     "name": "stderr",
     "output_type": "stream",
     "text": [
      "100%|██████████| 500/500 [00:04<00:00, 118.86it/s]\n"
     ]
    },
    {
     "name": "stdout",
     "output_type": "stream",
     "text": [
      "0.2500838082467315 0.24983255190890824 0.24995811693751047 {'method': 'textrank', 'modified': True, 'window_size': 3, 'nlp': None}\n"
     ]
    },
    {
     "name": "stderr",
     "output_type": "stream",
     "text": [
      "100%|██████████| 500/500 [00:04<00:00, 124.70it/s]\n"
     ]
    },
    {
     "name": "stdout",
     "output_type": "stream",
     "text": [
      "0.2484076433121019 0.24824120603015076 0.24832439678284182 {'method': 'textrank', 'modified': True, 'window_size': 4, 'nlp': None}\n"
     ]
    },
    {
     "name": "stderr",
     "output_type": "stream",
     "text": [
      "100%|██████████| 500/500 [00:12<00:00, 41.52it/s]\n"
     ]
    },
    {
     "name": "stdout",
     "output_type": "stream",
     "text": [
      "0.2701612903225806 0.2697986577181208 0.2699798522498321 {'method': 'textrank', 'modified': True, 'window_size': 2, 'nlp': <spacy.lang.en.English object at 0x7fba41bb6580>}\n"
     ]
    },
    {
     "name": "stderr",
     "output_type": "stream",
     "text": [
      "100%|██████████| 500/500 [00:11<00:00, 43.92it/s]\n"
     ]
    },
    {
     "name": "stdout",
     "output_type": "stream",
     "text": [
      "0.2651209677419355 0.2646762831264676 0.2648984388114823 {'method': 'textrank', 'modified': True, 'window_size': 3, 'nlp': <spacy.lang.en.English object at 0x7fba41bb6580>}\n"
     ]
    },
    {
     "name": "stderr",
     "output_type": "stream",
     "text": [
      "100%|██████████| 500/500 [00:10<00:00, 46.96it/s]\n"
     ]
    },
    {
     "name": "stdout",
     "output_type": "stream",
     "text": [
      "0.2644489247311828 0.2639168343393696 0.26418261161463585 {'method': 'textrank', 'modified': True, 'window_size': 4, 'nlp': <spacy.lang.en.English object at 0x7fba41bb6580>}\n"
     ]
    },
    {
     "name": "stderr",
     "output_type": "stream",
     "text": [
      "100%|██████████| 500/500 [00:12<00:00, 41.40it/s]"
     ]
    },
    {
     "name": "stdout",
     "output_type": "stream",
     "text": [
      "0.197460741730705 0.19858870967741934 0.19802311945049422 {'method': 'spacy'}\n"
     ]
    },
    {
     "name": "stderr",
     "output_type": "stream",
     "text": [
      "\n"
     ]
    }
   ],
   "source": [
    "method = [\"textrank\", \"textrank_mod\", \"spacy\"]\n",
    "\n",
    "nlp_textrank = spacy.load(\"en_core_web_sm\")\n",
    "\n",
    "configs = [\n",
    "    {\n",
    "        \"method\": \"textrank\",\n",
    "        \"modified\": False,\n",
    "        \"window_size\": 2,\n",
    "        \"nlp\": None\n",
    "    },\n",
    "    {\n",
    "        \"method\": \"textrank\",\n",
    "        \"modified\": False,\n",
    "        \"window_size\": 3,\n",
    "        \"nlp\": None\n",
    "    },\n",
    "    {\n",
    "        \"method\": \"textrank\",\n",
    "        \"modified\": False,\n",
    "        \"window_size\": 4,\n",
    "        \"nlp\": None\n",
    "    },\n",
    "    {\n",
    "        \"method\": \"textrank\",\n",
    "        \"modified\": True,\n",
    "        \"window_size\": 2,\n",
    "        \"nlp\": None\n",
    "    },\n",
    "    {\n",
    "        \"method\": \"textrank\",\n",
    "        \"modified\": True,\n",
    "        \"window_size\": 3,\n",
    "        \"nlp\": None\n",
    "    },\n",
    "    {\n",
    "        \"method\": \"textrank\",\n",
    "        \"modified\": True,\n",
    "        \"window_size\": 4,\n",
    "        \"nlp\": None\n",
    "    },\n",
    "    {\n",
    "        \"method\": \"textrank\",\n",
    "        \"modified\": True,\n",
    "        \"window_size\": 2,\n",
    "        \"nlp\": nlp_textrank\n",
    "    },\n",
    "    {\n",
    "        \"method\": \"textrank\",\n",
    "        \"modified\": True,\n",
    "        \"window_size\": 3,\n",
    "        \"nlp\": nlp_textrank\n",
    "    },\n",
    "    {\n",
    "        \"method\": \"textrank\",\n",
    "        \"modified\": True,\n",
    "        \"window_size\": 4,\n",
    "        \"nlp\": nlp_textrank\n",
    "    },\n",
    "    {\n",
    "        \"method\": \"spacy\",\n",
    "    },\n",
    "]\n",
    "\n",
    "for config in configs:\n",
    "    precision, recall, accuracy = experiment(**config)\n",
    "    print(precision, recall, accuracy, config)"
   ]
  },
  {
   "cell_type": "code",
   "execution_count": 9,
   "metadata": {},
   "outputs": [],
   "source": [
    "text = \"Compatibility of systems of linear constraints over the set of natural numbers. Criteria of compatibility of a system of linear Diophantine equations, strict inequations, and nonstrict inequations are considered. Upper bounds for components of a minimal set of solutions and algorithms of construction of minimal generating sets of solutions for all types of systems are given. These criteria and the corresponding algorithms for constructing a minimal supporting set of solutions can be used in solving all the considered types systems and systems of mixed types.\"\n"
   ]
  },
  {
   "cell_type": "code",
   "execution_count": 10,
   "metadata": {},
   "outputs": [
    {
     "data": {
      "text/plain": [
       "[('linear diophantine equations', 0.16634255545508467),\n",
       " ('minimal generating sets', 0.16335541664182152),\n",
       " ('mixed types', 0.1611750408423712),\n",
       " ('strict inequations', 0.1488961335626997),\n",
       " ('nonstrict inequations', 0.1488961335626997),\n",
       " ('natural numbers', 0.14101651488230055),\n",
       " ('upper bounds', 0.14101651488230055),\n",
       " ('linear constraints', 0.14101651488230052),\n",
       " ('algorithms', 0.10576238616172541),\n",
       " ('a minimal supporting set', 0.09640728505395027)]"
      ]
     },
     "execution_count": 10,
     "metadata": {},
     "output_type": "execute_result"
    }
   ],
   "source": [
    "textrank = Textrank(k=10, modified=True, window_size=2, nlp=nlp_textrank)\n",
    "textrank.pipeline(text)\n",
    "# [candidate for candidate, _ in textrank.candidates]\n",
    "sorted(textrank.candidates, key=lambda x: x[1], reverse=True)"
   ]
  },
  {
   "cell_type": "code",
   "execution_count": null,
   "metadata": {},
   "outputs": [],
   "source": []
  }
 ],
 "metadata": {
  "kernelspec": {
   "display_name": "Python 3.8.11 ('nlp')",
   "language": "python",
   "name": "python3"
  },
  "language_info": {
   "codemirror_mode": {
    "name": "ipython",
    "version": 3
   },
   "file_extension": ".py",
   "mimetype": "text/x-python",
   "name": "python",
   "nbconvert_exporter": "python",
   "pygments_lexer": "ipython3",
   "version": "3.8.11"
  },
  "orig_nbformat": 4,
  "vscode": {
   "interpreter": {
    "hash": "2507a970d79b133b0914c17609911b458f36ddf8c5a3c0758e64d972011b4a98"
   }
  }
 },
 "nbformat": 4,
 "nbformat_minor": 2
}
